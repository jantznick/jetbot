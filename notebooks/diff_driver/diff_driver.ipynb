{
 "cells": [
  {
   "cell_type": "markdown",
   "id": "557b4b8f-a413-4130-9135-b115c97cb8c4",
   "metadata": {},
   "source": [
    "# Differential Driver\n",
    "\n",
    "In this example we'll control the Jetbot remotely with a single joystick on a gamepad controller connected to our web browser machine.\n",
    "\n",
    "Many of these directions will be similar to the teleoperation notebook, but a main difference will be using a single joystick to control both motors instead of using one joystick for each motor. This should make it more intuitive to drive."
   ]
  },
  {
   "cell_type": "code",
   "execution_count": null,
   "id": "78f86084-499e-4fd1-871c-ec706ff3e9d6",
   "metadata": {},
   "outputs": [],
   "source": []
  }
 ],
 "metadata": {
  "kernelspec": {
   "display_name": "Python 3 (ipykernel)",
   "language": "python",
   "name": "python3"
  },
  "language_info": {
   "codemirror_mode": {
    "name": "ipython",
    "version": 3
   },
   "file_extension": ".py",
   "mimetype": "text/x-python",
   "name": "python",
   "nbconvert_exporter": "python",
   "pygments_lexer": "ipython3",
   "version": "3.10.6"
  }
 },
 "nbformat": 4,
 "nbformat_minor": 5
}
